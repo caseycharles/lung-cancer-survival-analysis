{
  "nbformat": 4,
  "nbformat_minor": 0,
  "metadata": {
    "colab": {
      "provenance": [],
      "authorship_tag": "ABX9TyO+6e/eGAiMagBJjFuXrz5V",
      "include_colab_link": true
    },
    "kernelspec": {
      "name": "python3",
      "display_name": "Python 3"
    },
    "language_info": {
      "name": "python"
    }
  },
  "cells": [
    {
      "cell_type": "markdown",
      "metadata": {
        "id": "view-in-github",
        "colab_type": "text"
      },
      "source": [
        "<a href=\"https://colab.research.google.com/github/caseycharles/lung-cancer-survival-analysis/blob/main/lung_cancer_analysis.ipynb\" target=\"_parent\"><img src=\"https://colab.research.google.com/assets/colab-badge.svg\" alt=\"Open In Colab\"/></a>"
      ]
    },
    {
      "cell_type": "code",
      "source": [
        "# import pandas for data handling\n",
        "import pandas as pd\n",
        "# load the full cancer data set\n",
        "df = pd.read_excel ('lung cancer data clean.xlsx')\n",
        "# display the first few rows to see if its correct\n",
        "print(\"full dataset preview:\")\n",
        "print (df.head())\n",
        "# print all unique cancer site values so we can confirm 'lung' exists\n",
        "print(\"\\nUnique cancer sites in the data set:\")\n",
        "# filter rows where 'Cancer Site' is 'Lung'\n",
        "lung_df = df[df['Cancer Site'].str.lower() == 'lung']\n",
        "# preview filterd lung data\n",
        "print(\"\\nPreview of Lung cancer rows:\")\n",
        "print(lung_df.head())\n",
        "# print number of lung cancer rows\n",
        "print (f\"\\nTotal Lung cancer rows: {len(lung_df)}\")\n",
        "# filter to only 5-year survival data\n",
        "lung_5yr = lung_df[\n",
        "    (lung_df['Years since diagnosis'] == 5) & (lung_df['Standardisation type'].str.contains('age-standardised', case=False))]\n",
        "# preview filterd 5-year age standardised lung cancer data\n",
        "print(\"Filtered 5-year age standardised lung cancer data:\")\n",
        "print(lung_5yr.head())\n",
        "# print number of 5-year age standardised lung cancer rows\n",
        "print (f\"\\nTotal 5-year age standardised Lung cancer rows: {len(lung_5yr)}\")\n",
        "# count how many rows are remaining\n",
        "print(f\"Total rows after filtering for 5-year survival: {len(lung_5yr)}\")"
      ],
      "metadata": {
        "colab": {
          "base_uri": "https://localhost:8080/"
        },
        "id": "P1RF6jD36kw0",
        "outputId": "39d3b237-f46b-4a9f-a314-0ba552083049"
      },
      "execution_count": null,
      "outputs": [
        {
          "output_type": "stream",
          "name": "stdout",
          "text": [
            "full dataset preview:\n",
            "  Cancer Site Gender Age at diagnosis (years) Standardisation type  \\\n",
            "0        Anus   Male                 15 to 44     Non-standardised   \n",
            "1        Anus   Male                 15 to 44     Non-standardised   \n",
            "2        Anus   Male                 15 to 44     Non-standardised   \n",
            "3        Anus   Male                 15 to 44     Non-standardised   \n",
            "4        Anus   Male                 15 to 44     Non-standardised   \n",
            "\n",
            "   Years since diagnosis  Patients  Net survival (%)  \\\n",
            "0                      1       126              90.6   \n",
            "1                      2       126              81.4   \n",
            "2                      3       126              74.7   \n",
            "3                      4       126              72.2   \n",
            "4                      5       126               NaN   \n",
            "\n",
            "   Net survival, lower 95% CI  Net survival, upper 95% CI  \n",
            "0                        82.6                        98.7  \n",
            "1                        70.5                        92.4  \n",
            "2                        62.1                        87.3  \n",
            "3                        58.7                        85.6  \n",
            "4                         NaN                         NaN  \n",
            "\n",
            "Unique cancer sites in the data set:\n",
            "\n",
            "Preview of Lung cancer rows:\n",
            "     Cancer Site Gender Age at diagnosis (years) Standardisation type  \\\n",
            "1513        Lung   Male                 15 to 44     Non-standardised   \n",
            "1514        Lung   Male                 15 to 44     Non-standardised   \n",
            "1515        Lung   Male                 15 to 44     Non-standardised   \n",
            "1516        Lung   Male                 15 to 44     Non-standardised   \n",
            "1517        Lung   Male                 15 to 44     Non-standardised   \n",
            "\n",
            "      Years since diagnosis  Patients  Net survival (%)  \\\n",
            "1513                      1       904              57.6   \n",
            "1514                      2       904              48.2   \n",
            "1515                      3       904              41.6   \n",
            "1516                      4       904              39.5   \n",
            "1517                      5       904              37.1   \n",
            "\n",
            "      Net survival, lower 95% CI  Net survival, upper 95% CI  \n",
            "1513                        52.5                        62.7  \n",
            "1514                        43.0                        53.5  \n",
            "1515                        36.2                        47.0  \n",
            "1516                        34.0                        45.1  \n",
            "1517                        31.1                        43.2  \n",
            "\n",
            "Total Lung cancer rows: 105\n",
            "Filtered 5-year age standardised lung cancer data:\n",
            "     Cancer Site   Gender Age at diagnosis (years)  \\\n",
            "1547        Lung     Male                 All ages   \n",
            "1582        Lung   Female                 All ages   \n",
            "1617        Lung  Persons                 All ages   \n",
            "\n",
            "                 Standardisation type  Years since diagnosis  Patients  \\\n",
            "1547  Age-standardised (5 age groups)                      5     98816   \n",
            "1582  Age-standardised (5 age groups)                      5     89685   \n",
            "1617  Age-standardised (5 age groups)                      5    188501   \n",
            "\n",
            "      Net survival (%)  Net survival, lower 95% CI  Net survival, upper 95% CI  \n",
            "1547              17.4                        17.0                        17.8  \n",
            "1582              25.0                        24.6                        25.5  \n",
            "1617              21.0                        20.7                        21.3  \n",
            "\n",
            "Total 5-year age standardised Lung cancer rows: 3\n",
            "Total rows after filtering for 5-year survival: 3\n"
          ]
        }
      ]
    },
    {
      "cell_type": "code",
      "source": [
        "import matplotlib.pyplot as plt\n",
        "import seaborn as sns\n",
        "\n",
        "# create a bar chart showing 5-year net survival by gender, dont include CI intervals palette='\n",
        "plt.figure(figsize=(6,5))\n",
        "sns.barplot(data=lung_5yr, x='Gender', y='Net survival (%)', ci=None, palette= 'coolwarm')\n",
        "\n",
        "# add chart title and labels\n",
        "plt.title('5-year net survival for lung cancer by gender')\n",
        "plt.xlabel('Gender')\n",
        "plt.ylabel('Net survival (%)')\n",
        "\n",
        "# show the bar chart\n",
        "plt.tight_layout()\n",
        "plt.savefig('lung cancer survival by gender.png')\n",
        "plt.show()\n",
        "\n"
      ],
      "metadata": {
        "colab": {
          "base_uri": "https://localhost:8080/",
          "height": 507
        },
        "id": "ZbwLFswsFPeR",
        "outputId": "eb5ae333-5e79-47c6-e586-95400a3054a0"
      },
      "execution_count": null,
      "outputs": [
        {
          "output_type": "display_data",
          "data": {
            "text/plain": [
              "<Figure size 600x500 with 1 Axes>"
            ],
            "image/png": "[encoded data removed]"
          },
          "metadata": {}
        }
      ]
    }
  ]
}